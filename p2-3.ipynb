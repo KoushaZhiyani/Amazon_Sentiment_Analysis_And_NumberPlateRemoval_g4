{
  "cells": [
    {
      "cell_type": "markdown",
      "source": [
        "وارد کردن کتابخانه‌ها"
      ],
      "metadata": {
        "id": "b2EYkoVH1Tvy"
      }
    },
    {
      "cell_type": "code",
      "execution_count": 53,
      "metadata": {
        "id": "wrVQ6mSzVnA0"
      },
      "outputs": [],
      "source": [
        "import pandas as pd\n",
        "import numpy as np\n",
        "import matplotlib.pyplot as plt\n",
        "import seaborn as sns\n",
        "from imblearn.under_sampling import RandomUnderSampler\n",
        "from sklearn.model_selection import train_test_split\n",
        "from tensorflow.keras.preprocessing.text import Tokenizer\n",
        "from tensorflow.keras.preprocessing.sequence import pad_sequences\n",
        "from keras.utils import to_categorical\n",
        "from sklearn.preprocessing import LabelEncoder\n",
        "import string"
      ]
    },
    {
      "cell_type": "markdown",
      "source": [
        "اتصال به Google Drive"
      ],
      "metadata": {
        "id": "8ntZQMCm1ZEN"
      }
    },
    {
      "cell_type": "code",
      "execution_count": 2,
      "metadata": {
        "colab": {
          "base_uri": "https://localhost:8080/"
        },
        "id": "LdfDGn-dVtlN",
        "outputId": "08e415bf-4952-4949-8169-57d615b6725d"
      },
      "outputs": [
        {
          "output_type": "stream",
          "name": "stdout",
          "text": [
            "Drive already mounted at /content/drive; to attempt to forcibly remount, call drive.mount(\"/content/drive\", force_remount=True).\n"
          ]
        }
      ],
      "source": [
        "from google.colab import drive\n",
        "drive.mount('/content/drive')"
      ]
    },
    {
      "cell_type": "markdown",
      "source": [
        "بارگذاری داده‌های آموزشی و تست"
      ],
      "metadata": {
        "id": "aciYmSlR1ctm"
      }
    },
    {
      "cell_type": "code",
      "execution_count": 3,
      "metadata": {
        "colab": {
          "base_uri": "https://localhost:8080/"
        },
        "collapsed": true,
        "id": "xf6YjJpNVuw1",
        "outputId": "67a53a85-f931-46a0-8a09-ec959b7b3dea"
      },
      "outputs": [
        {
          "output_type": "stream",
          "name": "stderr",
          "text": [
            "<ipython-input-3-19cdb99abad7>:3: DtypeWarning: Columns (1) have mixed types. Specify dtype option on import or set low_memory=False.\n",
            "  train_dt = pd.read_csv(file_path)\n"
          ]
        },
        {
          "output_type": "stream",
          "name": "stdout",
          "text": [
            "   overall vote  verified  reviewTime      reviewerID        asin  \\\n",
            "0        1  NaN      True  2016-06-19  A2PLH0M1QRU0YG  1059844575   \n",
            "1        1  3.0      True  2017-01-26  A32H8T972W8Q39  106171327X   \n",
            "2        1  3.0     False  2017-02-19  A1Z9EANX72A8EX  1444700650   \n",
            "3        1  NaN      True  2016-05-03  A1E51BV5BPAADB  4126895493   \n",
            "4        1  NaN      True  2016-11-01  A1BWUNE479C76A  6073894996   \n",
            "\n",
            "                                               style     reviewerName  \\\n",
            "0                               {'Color:': ' Black'}  Amazon Customer   \n",
            "1                                                NaN  Angelica Garcia   \n",
            "2                     {'Format:': ' Kindle Edition'}          TKandKK   \n",
            "3                            {'Color:': ' Fire red'}           Moejha   \n",
            "4  {'Size:': ' One USB Port', 'Color:': ' Black 2...               BK   \n",
            "\n",
            "                                          reviewText  \\\n",
            "0  Keeps cutting out... phone screen image on TV ...   \n",
            "1  Not the one we ordered exactly but ill still t...   \n",
            "2  From the very first chapter Jack Nightingale i...   \n",
            "3  The headphones work perfectly fine as in I can...   \n",
            "4  stopped working after a while. for iphone it s...   \n",
            "\n",
            "                                             summary  unixReviewTime  \\\n",
            "0  Poor Quality 1st order and now Poor service fr...      1466294400   \n",
            "1  Not the exact one i ordered... and it doesn't ...      1485388800   \n",
            "2                                         Ridiculous      1487462400   \n",
            "3                                       Very fragile      1462233600   \n",
            "4  stopped working after a while. for iphone it s...      1477958400   \n",
            "\n",
            "                                  reviewText_cleaned  \\\n",
            "0  keep cutting phone screen image tv connects go...   \n",
            "1  one ordered exactly ill still take still corre...   \n",
            "2  first chapter jack nightingale complete idiot ...   \n",
            "3  headphone work perfectly fine hear one ear typ...   \n",
            "4  stopped working iphone say accessory supported...   \n",
            "\n",
            "                                summary_cleaned  \n",
            "0  poor quality st order poor service yanzzshop  \n",
            "1                 exact one ordered doesnt work  \n",
            "2                                    ridiculous  \n",
            "3                                       fragile  \n",
            "4                    stopped working iphone say  \n"
          ]
        }
      ],
      "source": [
        "file_path = '/content/drive/My Drive/balanced_data1-1.csv'\n",
        "\n",
        "train_dt = pd.read_csv(file_path)\n",
        "\n",
        "print(train_dt.head())\n"
      ]
    },
    {
      "cell_type": "code",
      "execution_count": 26,
      "metadata": {
        "collapsed": true,
        "id": "-_pYggiXVvzm"
      },
      "outputs": [],
      "source": [
        "file_path = '/content/drive/My Drive/test_data.csv'\n",
        "\n",
        "test_dt = pd.read_csv(file_path)\n",
        "\n",
        "# print(test_dt.head())\n"
      ]
    },
    {
      "cell_type": "markdown",
      "source": [
        "دانلود پکیج‌های NLTK"
      ],
      "metadata": {
        "id": "pyBVahFJ1uCy"
      }
    },
    {
      "cell_type": "code",
      "execution_count": 29,
      "metadata": {
        "colab": {
          "base_uri": "https://localhost:8080/"
        },
        "id": "tHjICg9YW4Xr",
        "outputId": "9893e6b4-44f4-4b20-89de-91b1ba4ed0b6"
      },
      "outputs": [
        {
          "output_type": "stream",
          "name": "stderr",
          "text": [
            "[nltk_data] Downloading package stopwords to /root/nltk_data...\n",
            "[nltk_data]   Unzipping corpora/stopwords.zip.\n",
            "[nltk_data] Downloading package wordnet to /root/nltk_data...\n"
          ]
        },
        {
          "output_type": "execute_result",
          "data": {
            "text/plain": [
              "True"
            ]
          },
          "metadata": {},
          "execution_count": 29
        }
      ],
      "source": [
        "import nltk\n",
        "nltk.download('stopwords')\n",
        "nltk.download('wordnet')"
      ]
    },
    {
      "cell_type": "markdown",
      "source": [
        "تعریف تابع برای پاکسازی متن\n"
      ],
      "metadata": {
        "id": "0w6gUylm1xQf"
      }
    },
    {
      "cell_type": "code",
      "execution_count": 30,
      "metadata": {
        "id": "C2ka7QZ5WRId"
      },
      "outputs": [],
      "source": [
        "import re\n",
        "import string\n",
        "from nltk.corpus import stopwords\n",
        "from nltk.stem import WordNetLemmatizer\n",
        "\n",
        "def clean_text(text):\n",
        "    if not isinstance(text, str):\n",
        "        return ''\n",
        "\n",
        "    text = re.sub(r'http\\S+|www\\S+|https\\S+', '', text, flags=re.MULTILINE)\n",
        "\n",
        "    text = re.sub(r'\\d+', '', text)\n",
        "\n",
        "    text = text.translate(str.maketrans('', '', string.punctuation))\n",
        "\n",
        "    text = text.lower()\n",
        "\n",
        "    stop_words = set(stopwords.words('english'))\n",
        "    text = ' '.join(word for word in text.split() if word not in stop_words)\n",
        "\n",
        "    lemmatizer = WordNetLemmatizer()\n",
        "    text = ' '.join(lemmatizer.lemmatize(word) for word in text.split())\n",
        "\n",
        "    text = ' '.join(text.split())\n",
        "\n",
        "    return text\n"
      ]
    },
    {
      "cell_type": "code",
      "execution_count": 31,
      "metadata": {
        "id": "EUk9tSeTWqod"
      },
      "outputs": [],
      "source": [
        "test_dt['reviewText_cleaned'] = test_dt['reviewText'].apply(clean_text)\n",
        "test_dt['summary_cleaned'] = test_dt['summary'].apply(clean_text)"
      ]
    },
    {
      "cell_type": "markdown",
      "source": [
        "تعریف ویژگی‌ها و برچسب‌ها"
      ],
      "metadata": {
        "id": "5zftPcot14lE"
      }
    },
    {
      "cell_type": "code",
      "execution_count": 10,
      "metadata": {
        "id": "J5g-N5-zXmut"
      },
      "outputs": [],
      "source": [
        "X = train_dt[['reviewText_cleaned', 'summary_cleaned']]\n",
        "y = train_dt['overall']"
      ]
    },
    {
      "cell_type": "markdown",
      "source": [
        "تبدیل برچسب‌ها به قالب one-hot encoding\n",
        "\n"
      ],
      "metadata": {
        "id": "x6AQsbC117TO"
      }
    },
    {
      "cell_type": "code",
      "execution_count": 11,
      "metadata": {
        "id": "lUQ1FzHQZyh4"
      },
      "outputs": [],
      "source": [
        "y = to_categorical(y - 1)"
      ]
    },
    {
      "cell_type": "markdown",
      "source": [
        "تقسیم داده‌های آموزشی و تست\n"
      ],
      "metadata": {
        "id": "QSbGZvfh19KZ"
      }
    },
    {
      "cell_type": "code",
      "source": [
        "X_train, X_test, y_train, y_test = train_test_split(X, y, test_size=0.2, random_state=42)"
      ],
      "metadata": {
        "id": "jBPUbStHkVH7"
      },
      "execution_count": 12,
      "outputs": []
    },
    {
      "cell_type": "markdown",
      "source": [
        "ایجاد Tokenizer برای متن و خلاصه\n"
      ],
      "metadata": {
        "id": "fsJf4Yy-1_RI"
      }
    },
    {
      "cell_type": "code",
      "source": [
        "tokenizer_review = Tokenizer(num_words=6000)\n",
        "tokenizer_summary = Tokenizer(num_words=1000)"
      ],
      "metadata": {
        "id": "gC4rbCGek7SP"
      },
      "execution_count": 13,
      "outputs": []
    },
    {
      "cell_type": "markdown",
      "source": [
        " آموزش و تبدیل و پدینگ متون به توالی عددی در داده‌های آموزشی\n"
      ],
      "metadata": {
        "id": "PsZYseXl2KCP"
      }
    },
    {
      "cell_type": "code",
      "execution_count": 14,
      "metadata": {
        "id": "ZI136NBQXq7x"
      },
      "outputs": [],
      "source": [
        "tokenizer_review.fit_on_texts(X['reviewText_cleaned'])\n",
        "tokenizer_summary.fit_on_texts(X['summary_cleaned'])"
      ]
    },
    {
      "cell_type": "code",
      "execution_count": 15,
      "metadata": {
        "id": "Ir6yiMiTXtdw"
      },
      "outputs": [],
      "source": [
        "tokenizer_review.fit_on_texts(X['reviewText_cleaned'])\n",
        "tokenizer_summary.fit_on_texts(X['summary_cleaned'])"
      ]
    },
    {
      "cell_type": "code",
      "execution_count": 16,
      "metadata": {
        "id": "z5vAwi4WXuoH"
      },
      "outputs": [],
      "source": [
        "X_train_review_seq = tokenizer_review.texts_to_sequences(X_train['reviewText_cleaned'])\n",
        "X_train_summary_seq = tokenizer_summary.texts_to_sequences(X_train['summary_cleaned'])"
      ]
    },
    {
      "cell_type": "code",
      "execution_count": 17,
      "metadata": {
        "id": "qJtjhGp6YrdK"
      },
      "outputs": [],
      "source": [
        "X_test_review_seq = tokenizer_review.texts_to_sequences(X_test['reviewText_cleaned'])\n",
        "X_test_summary_seq = tokenizer_summary.texts_to_sequences(X_test['summary_cleaned'])"
      ]
    },
    {
      "cell_type": "code",
      "execution_count": 18,
      "metadata": {
        "id": "gV_7SuqjZLEo"
      },
      "outputs": [],
      "source": [
        "\n",
        "X_train_review_pad = pad_sequences(X_train_review_seq, maxlen=1400)\n",
        "X_train_summary_pad = pad_sequences(X_train_summary_seq, maxlen=500)\n",
        "\n",
        "X_test_review_pad = pad_sequences(X_test_review_seq, maxlen=1400)\n",
        "X_test_summary_pad = pad_sequences(X_test_summary_seq, maxlen=500)"
      ]
    },
    {
      "cell_type": "markdown",
      "source": [
        "تعریف کال بک برای توقف دستی آموزش و توقف پیش از اورفیت شدن\n"
      ],
      "metadata": {
        "id": "B8kC_nPg2UUm"
      }
    },
    {
      "cell_type": "code",
      "execution_count": 19,
      "metadata": {
        "id": "Ai-VXbxEZPik"
      },
      "outputs": [],
      "source": [
        "from tensorflow.keras.callbacks import Callback\n",
        "\n",
        "class ManualStopCallback(Callback):\n",
        "    def on_epoch_end(self, epoch, logs=None):\n",
        "        if int(epoch) < 10:\n",
        "          answer = 'n'\n",
        "        else:\n",
        "          answer = input(f\"Epoch {epoch + 1} ended. Do you want to stop training? (y/n): \")\n",
        "        if answer.lower() == 'y':\n",
        "            print(\"Stopping training...\")\n",
        "            self.model.stop_training = True\n"
      ]
    },
    {
      "cell_type": "code",
      "execution_count": 21,
      "metadata": {
        "id": "ko0pifm1ZTRz"
      },
      "outputs": [],
      "source": [
        "from tensorflow.keras.callbacks import EarlyStopping\n",
        "early_stopping = EarlyStopping(monitor='val_loss', patience=2, restore_best_weights=True)\n"
      ]
    },
    {
      "cell_type": "code",
      "execution_count": 22,
      "metadata": {
        "id": "Hs3EW-qIZUu9"
      },
      "outputs": [],
      "source": [
        "manual_check = ManualStopCallback()"
      ]
    },
    {
      "cell_type": "markdown",
      "source": [
        "ایجاد مدل LSTM با ورودی‌های خلاصه و متن"
      ],
      "metadata": {
        "id": "L8cmcFgp2iwQ"
      }
    },
    {
      "cell_type": "code",
      "execution_count": 23,
      "metadata": {
        "colab": {
          "base_uri": "https://localhost:8080/",
          "height": 442
        },
        "id": "tXij8pI_ZXPT",
        "outputId": "3d7c3c13-c8f6-4afe-b359-092054fa9f67"
      },
      "outputs": [
        {
          "output_type": "display_data",
          "data": {
            "text/plain": [
              "\u001b[1mModel: \"functional\"\u001b[0m\n"
            ],
            "text/html": [
              "<pre style=\"white-space:pre;overflow-x:auto;line-height:normal;font-family:Menlo,'DejaVu Sans Mono',consolas,'Courier New',monospace\"><span style=\"font-weight: bold\">Model: \"functional\"</span>\n",
              "</pre>\n"
            ]
          },
          "metadata": {}
        },
        {
          "output_type": "display_data",
          "data": {
            "text/plain": [
              "┏━━━━━━━━━━━━━━━━━━━━━━━━━━━┳━━━━━━━━━━━━━━━━━━━━━━━━┳━━━━━━━━━━━━━━━━┳━━━━━━━━━━━━━━━━━━━━━━━━┓\n",
              "┃\u001b[1m \u001b[0m\u001b[1mLayer (type)             \u001b[0m\u001b[1m \u001b[0m┃\u001b[1m \u001b[0m\u001b[1mOutput Shape          \u001b[0m\u001b[1m \u001b[0m┃\u001b[1m \u001b[0m\u001b[1m       Param #\u001b[0m\u001b[1m \u001b[0m┃\u001b[1m \u001b[0m\u001b[1mConnected to          \u001b[0m\u001b[1m \u001b[0m┃\n",
              "┡━━━━━━━━━━━━━━━━━━━━━━━━━━━╇━━━━━━━━━━━━━━━━━━━━━━━━╇━━━━━━━━━━━━━━━━╇━━━━━━━━━━━━━━━━━━━━━━━━┩\n",
              "│ input_layer (\u001b[38;5;33mInputLayer\u001b[0m)  │ (\u001b[38;5;45mNone\u001b[0m, \u001b[38;5;34m1400\u001b[0m)           │              \u001b[38;5;34m0\u001b[0m │ -                      │\n",
              "├───────────────────────────┼────────────────────────┼────────────────┼────────────────────────┤\n",
              "│ input_layer_1             │ (\u001b[38;5;45mNone\u001b[0m, \u001b[38;5;34m500\u001b[0m)            │              \u001b[38;5;34m0\u001b[0m │ -                      │\n",
              "│ (\u001b[38;5;33mInputLayer\u001b[0m)              │                        │                │                        │\n",
              "├───────────────────────────┼────────────────────────┼────────────────┼────────────────────────┤\n",
              "│ embedding (\u001b[38;5;33mEmbedding\u001b[0m)     │ (\u001b[38;5;45mNone\u001b[0m, \u001b[38;5;34m1400\u001b[0m, \u001b[38;5;34m128\u001b[0m)      │        \u001b[38;5;34m768,000\u001b[0m │ input_layer[\u001b[38;5;34m0\u001b[0m][\u001b[38;5;34m0\u001b[0m]      │\n",
              "├───────────────────────────┼────────────────────────┼────────────────┼────────────────────────┤\n",
              "│ embedding_1 (\u001b[38;5;33mEmbedding\u001b[0m)   │ (\u001b[38;5;45mNone\u001b[0m, \u001b[38;5;34m500\u001b[0m, \u001b[38;5;34m128\u001b[0m)       │        \u001b[38;5;34m128,000\u001b[0m │ input_layer_1[\u001b[38;5;34m0\u001b[0m][\u001b[38;5;34m0\u001b[0m]    │\n",
              "├───────────────────────────┼────────────────────────┼────────────────┼────────────────────────┤\n",
              "│ lstm (\u001b[38;5;33mLSTM\u001b[0m)               │ (\u001b[38;5;45mNone\u001b[0m, \u001b[38;5;34m64\u001b[0m)             │         \u001b[38;5;34m49,408\u001b[0m │ embedding[\u001b[38;5;34m0\u001b[0m][\u001b[38;5;34m0\u001b[0m]        │\n",
              "├───────────────────────────┼────────────────────────┼────────────────┼────────────────────────┤\n",
              "│ lstm_1 (\u001b[38;5;33mLSTM\u001b[0m)             │ (\u001b[38;5;45mNone\u001b[0m, \u001b[38;5;34m32\u001b[0m)             │         \u001b[38;5;34m20,608\u001b[0m │ embedding_1[\u001b[38;5;34m0\u001b[0m][\u001b[38;5;34m0\u001b[0m]      │\n",
              "├───────────────────────────┼────────────────────────┼────────────────┼────────────────────────┤\n",
              "│ concatenate (\u001b[38;5;33mConcatenate\u001b[0m) │ (\u001b[38;5;45mNone\u001b[0m, \u001b[38;5;34m96\u001b[0m)             │              \u001b[38;5;34m0\u001b[0m │ lstm[\u001b[38;5;34m0\u001b[0m][\u001b[38;5;34m0\u001b[0m],            │\n",
              "│                           │                        │                │ lstm_1[\u001b[38;5;34m0\u001b[0m][\u001b[38;5;34m0\u001b[0m]           │\n",
              "├───────────────────────────┼────────────────────────┼────────────────┼────────────────────────┤\n",
              "│ dense (\u001b[38;5;33mDense\u001b[0m)             │ (\u001b[38;5;45mNone\u001b[0m, \u001b[38;5;34m5\u001b[0m)              │            \u001b[38;5;34m485\u001b[0m │ concatenate[\u001b[38;5;34m0\u001b[0m][\u001b[38;5;34m0\u001b[0m]      │\n",
              "└───────────────────────────┴────────────────────────┴────────────────┴────────────────────────┘\n"
            ],
            "text/html": [
              "<pre style=\"white-space:pre;overflow-x:auto;line-height:normal;font-family:Menlo,'DejaVu Sans Mono',consolas,'Courier New',monospace\">┏━━━━━━━━━━━━━━━━━━━━━━━━━━━┳━━━━━━━━━━━━━━━━━━━━━━━━┳━━━━━━━━━━━━━━━━┳━━━━━━━━━━━━━━━━━━━━━━━━┓\n",
              "┃<span style=\"font-weight: bold\"> Layer (type)              </span>┃<span style=\"font-weight: bold\"> Output Shape           </span>┃<span style=\"font-weight: bold\">        Param # </span>┃<span style=\"font-weight: bold\"> Connected to           </span>┃\n",
              "┡━━━━━━━━━━━━━━━━━━━━━━━━━━━╇━━━━━━━━━━━━━━━━━━━━━━━━╇━━━━━━━━━━━━━━━━╇━━━━━━━━━━━━━━━━━━━━━━━━┩\n",
              "│ input_layer (<span style=\"color: #0087ff; text-decoration-color: #0087ff\">InputLayer</span>)  │ (<span style=\"color: #00d7ff; text-decoration-color: #00d7ff\">None</span>, <span style=\"color: #00af00; text-decoration-color: #00af00\">1400</span>)           │              <span style=\"color: #00af00; text-decoration-color: #00af00\">0</span> │ -                      │\n",
              "├───────────────────────────┼────────────────────────┼────────────────┼────────────────────────┤\n",
              "│ input_layer_1             │ (<span style=\"color: #00d7ff; text-decoration-color: #00d7ff\">None</span>, <span style=\"color: #00af00; text-decoration-color: #00af00\">500</span>)            │              <span style=\"color: #00af00; text-decoration-color: #00af00\">0</span> │ -                      │\n",
              "│ (<span style=\"color: #0087ff; text-decoration-color: #0087ff\">InputLayer</span>)              │                        │                │                        │\n",
              "├───────────────────────────┼────────────────────────┼────────────────┼────────────────────────┤\n",
              "│ embedding (<span style=\"color: #0087ff; text-decoration-color: #0087ff\">Embedding</span>)     │ (<span style=\"color: #00d7ff; text-decoration-color: #00d7ff\">None</span>, <span style=\"color: #00af00; text-decoration-color: #00af00\">1400</span>, <span style=\"color: #00af00; text-decoration-color: #00af00\">128</span>)      │        <span style=\"color: #00af00; text-decoration-color: #00af00\">768,000</span> │ input_layer[<span style=\"color: #00af00; text-decoration-color: #00af00\">0</span>][<span style=\"color: #00af00; text-decoration-color: #00af00\">0</span>]      │\n",
              "├───────────────────────────┼────────────────────────┼────────────────┼────────────────────────┤\n",
              "│ embedding_1 (<span style=\"color: #0087ff; text-decoration-color: #0087ff\">Embedding</span>)   │ (<span style=\"color: #00d7ff; text-decoration-color: #00d7ff\">None</span>, <span style=\"color: #00af00; text-decoration-color: #00af00\">500</span>, <span style=\"color: #00af00; text-decoration-color: #00af00\">128</span>)       │        <span style=\"color: #00af00; text-decoration-color: #00af00\">128,000</span> │ input_layer_1[<span style=\"color: #00af00; text-decoration-color: #00af00\">0</span>][<span style=\"color: #00af00; text-decoration-color: #00af00\">0</span>]    │\n",
              "├───────────────────────────┼────────────────────────┼────────────────┼────────────────────────┤\n",
              "│ lstm (<span style=\"color: #0087ff; text-decoration-color: #0087ff\">LSTM</span>)               │ (<span style=\"color: #00d7ff; text-decoration-color: #00d7ff\">None</span>, <span style=\"color: #00af00; text-decoration-color: #00af00\">64</span>)             │         <span style=\"color: #00af00; text-decoration-color: #00af00\">49,408</span> │ embedding[<span style=\"color: #00af00; text-decoration-color: #00af00\">0</span>][<span style=\"color: #00af00; text-decoration-color: #00af00\">0</span>]        │\n",
              "├───────────────────────────┼────────────────────────┼────────────────┼────────────────────────┤\n",
              "│ lstm_1 (<span style=\"color: #0087ff; text-decoration-color: #0087ff\">LSTM</span>)             │ (<span style=\"color: #00d7ff; text-decoration-color: #00d7ff\">None</span>, <span style=\"color: #00af00; text-decoration-color: #00af00\">32</span>)             │         <span style=\"color: #00af00; text-decoration-color: #00af00\">20,608</span> │ embedding_1[<span style=\"color: #00af00; text-decoration-color: #00af00\">0</span>][<span style=\"color: #00af00; text-decoration-color: #00af00\">0</span>]      │\n",
              "├───────────────────────────┼────────────────────────┼────────────────┼────────────────────────┤\n",
              "│ concatenate (<span style=\"color: #0087ff; text-decoration-color: #0087ff\">Concatenate</span>) │ (<span style=\"color: #00d7ff; text-decoration-color: #00d7ff\">None</span>, <span style=\"color: #00af00; text-decoration-color: #00af00\">96</span>)             │              <span style=\"color: #00af00; text-decoration-color: #00af00\">0</span> │ lstm[<span style=\"color: #00af00; text-decoration-color: #00af00\">0</span>][<span style=\"color: #00af00; text-decoration-color: #00af00\">0</span>],            │\n",
              "│                           │                        │                │ lstm_1[<span style=\"color: #00af00; text-decoration-color: #00af00\">0</span>][<span style=\"color: #00af00; text-decoration-color: #00af00\">0</span>]           │\n",
              "├───────────────────────────┼────────────────────────┼────────────────┼────────────────────────┤\n",
              "│ dense (<span style=\"color: #0087ff; text-decoration-color: #0087ff\">Dense</span>)             │ (<span style=\"color: #00d7ff; text-decoration-color: #00d7ff\">None</span>, <span style=\"color: #00af00; text-decoration-color: #00af00\">5</span>)              │            <span style=\"color: #00af00; text-decoration-color: #00af00\">485</span> │ concatenate[<span style=\"color: #00af00; text-decoration-color: #00af00\">0</span>][<span style=\"color: #00af00; text-decoration-color: #00af00\">0</span>]      │\n",
              "└───────────────────────────┴────────────────────────┴────────────────┴────────────────────────┘\n",
              "</pre>\n"
            ]
          },
          "metadata": {}
        },
        {
          "output_type": "display_data",
          "data": {
            "text/plain": [
              "\u001b[1m Total params: \u001b[0m\u001b[38;5;34m966,501\u001b[0m (3.69 MB)\n"
            ],
            "text/html": [
              "<pre style=\"white-space:pre;overflow-x:auto;line-height:normal;font-family:Menlo,'DejaVu Sans Mono',consolas,'Courier New',monospace\"><span style=\"font-weight: bold\"> Total params: </span><span style=\"color: #00af00; text-decoration-color: #00af00\">966,501</span> (3.69 MB)\n",
              "</pre>\n"
            ]
          },
          "metadata": {}
        },
        {
          "output_type": "display_data",
          "data": {
            "text/plain": [
              "\u001b[1m Trainable params: \u001b[0m\u001b[38;5;34m966,501\u001b[0m (3.69 MB)\n"
            ],
            "text/html": [
              "<pre style=\"white-space:pre;overflow-x:auto;line-height:normal;font-family:Menlo,'DejaVu Sans Mono',consolas,'Courier New',monospace\"><span style=\"font-weight: bold\"> Trainable params: </span><span style=\"color: #00af00; text-decoration-color: #00af00\">966,501</span> (3.69 MB)\n",
              "</pre>\n"
            ]
          },
          "metadata": {}
        },
        {
          "output_type": "display_data",
          "data": {
            "text/plain": [
              "\u001b[1m Non-trainable params: \u001b[0m\u001b[38;5;34m0\u001b[0m (0.00 B)\n"
            ],
            "text/html": [
              "<pre style=\"white-space:pre;overflow-x:auto;line-height:normal;font-family:Menlo,'DejaVu Sans Mono',consolas,'Courier New',monospace\"><span style=\"font-weight: bold\"> Non-trainable params: </span><span style=\"color: #00af00; text-decoration-color: #00af00\">0</span> (0.00 B)\n",
              "</pre>\n"
            ]
          },
          "metadata": {}
        }
      ],
      "source": [
        "from keras.models import Model\n",
        "from keras.layers import Input, LSTM, Dense, Embedding, Concatenate, Flatten\n",
        "\n",
        "input_review = Input(shape=(1400,))\n",
        "x_review = Embedding(input_dim=6000, output_dim=128)(input_review)\n",
        "x_review = LSTM(64)(x_review)\n",
        "\n",
        "input_summary = Input(shape=(500,))\n",
        "x_summary = Embedding(input_dim=1000, output_dim=128)(input_summary)\n",
        "x_summary = LSTM(32)(x_summary)\n",
        "\n",
        "merged = Concatenate()([x_review, x_summary])\n",
        "output = Dense(5, activation='softmax')(merged)\n",
        "\n",
        "model = Model(inputs=[input_review, input_summary], outputs=output)\n",
        "\n",
        "model.compile(loss='binary_crossentropy', optimizer='adam', metrics=['accuracy'])\n",
        "model.summary()\n"
      ]
    },
    {
      "cell_type": "markdown",
      "source": [
        "آموزش مدل با استفاده از داده‌های آموزشی\n"
      ],
      "metadata": {
        "id": "X8y0RaHL2luk"
      }
    },
    {
      "cell_type": "code",
      "execution_count": 24,
      "metadata": {
        "colab": {
          "base_uri": "https://localhost:8080/"
        },
        "id": "j72Jon2RZdes",
        "outputId": "d510bee2-4a6e-4bb8-e350-411982d2b453"
      },
      "outputs": [
        {
          "output_type": "stream",
          "name": "stdout",
          "text": [
            "Epoch 1/30\n",
            "\u001b[1m3118/3118\u001b[0m \u001b[32m━━━━━━━━━━━━━━━━━━━━\u001b[0m\u001b[37m\u001b[0m \u001b[1m278s\u001b[0m 87ms/step - accuracy: 0.4868 - loss: 0.3941 - val_accuracy: 0.5724 - val_loss: 0.3443\n",
            "Epoch 2/30\n",
            "\u001b[1m3118/3118\u001b[0m \u001b[32m━━━━━━━━━━━━━━━━━━━━\u001b[0m\u001b[37m\u001b[0m \u001b[1m319s\u001b[0m 88ms/step - accuracy: 0.5921 - loss: 0.3337 - val_accuracy: 0.5855 - val_loss: 0.3363\n",
            "Epoch 3/30\n",
            "\u001b[1m3118/3118\u001b[0m \u001b[32m━━━━━━━━━━━━━━━━━━━━\u001b[0m\u001b[37m\u001b[0m \u001b[1m326s\u001b[0m 89ms/step - accuracy: 0.6161 - loss: 0.3176 - val_accuracy: 0.5876 - val_loss: 0.3334\n",
            "Epoch 4/30\n",
            "\u001b[1m3118/3118\u001b[0m \u001b[32m━━━━━━━━━━━━━━━━━━━━\u001b[0m\u001b[37m\u001b[0m \u001b[1m327s\u001b[0m 91ms/step - accuracy: 0.6382 - loss: 0.3039 - val_accuracy: 0.5882 - val_loss: 0.3344\n",
            "Epoch 5/30\n",
            "\u001b[1m3118/3118\u001b[0m \u001b[32m━━━━━━━━━━━━━━━━━━━━\u001b[0m\u001b[37m\u001b[0m \u001b[1m317s\u001b[0m 89ms/step - accuracy: 0.6594 - loss: 0.2910 - val_accuracy: 0.5897 - val_loss: 0.3368\n"
          ]
        }
      ],
      "source": [
        "history = model.fit(\n",
        "    [X_train_review_pad, X_train_summary_pad],\n",
        "    y_train,\n",
        "    epochs=30,\n",
        "    validation_data=([X_test_review_pad, X_test_summary_pad],y_test),\n",
        "    callbacks=[manual_check, early_stopping],\n",
        "    batch_size=128\n",
        ")\n"
      ]
    },
    {
      "cell_type": "markdown",
      "source": [
        "ترسیم تاریخچه آموزش مدل\n"
      ],
      "metadata": {
        "id": "9pXE3WtE2oSQ"
      }
    },
    {
      "cell_type": "code",
      "source": [
        "history_df = pd.DataFrame(history.history)\n",
        "\n",
        "plt.figure(figsize=(10, 6))\n",
        "sns.heatmap(history_df.T, annot=True, cmap=\"Blues\", cbar=True)\n",
        "plt.title(\"Model Training History Heatmap\")\n",
        "plt.xlabel(\"Epoch\")\n",
        "plt.ylabel(\"Metrics\")\n",
        "plt.show()\n"
      ],
      "metadata": {
        "colab": {
          "base_uri": "https://localhost:8080/",
          "height": 538
        },
        "id": "wBZbOzSjynV3",
        "outputId": "3aca06f6-5fbe-469c-9252-47fef41de215"
      },
      "execution_count": 65,
      "outputs": [
        {
          "output_type": "display_data",
          "data": {
            "text/plain": [
              "<Figure size 1000x600 with 2 Axes>"
            ],
            "image/png": "[encoded data removed]"
          },
          "metadata": {}
        }
      ]
    },
    {
      "cell_type": "markdown",
      "source": [
        "محاسبه و ترسیم ماتریس سردرگمی\n"
      ],
      "metadata": {
        "id": "PYYwgSgp2p7-"
      }
    },
    {
      "cell_type": "code",
      "execution_count": 55,
      "metadata": {
        "id": "TaVsFZrhZ6Sm",
        "colab": {
          "base_uri": "https://localhost:8080/",
          "height": 256
        },
        "collapsed": true,
        "outputId": "166ec854-769f-481b-f006-2bd34f0b4fa8"
      },
      "outputs": [
        {
          "output_type": "stream",
          "name": "stdout",
          "text": [
            "\u001b[1m3118/3118\u001b[0m \u001b[32m━━━━━━━━━━━━━━━━━━━━\u001b[0m\u001b[37m\u001b[0m \u001b[1m85s\u001b[0m 27ms/step\n"
          ]
        },
        {
          "output_type": "error",
          "ename": "NameError",
          "evalue": "name 'class_labels' is not defined",
          "traceback": [
            "\u001b[0;31m---------------------------------------------------------------------------\u001b[0m",
            "\u001b[0;31mNameError\u001b[0m                                 Traceback (most recent call last)",
            "\u001b[0;32m<ipython-input-55-81cf4ee673e3>\u001b[0m in \u001b[0;36m<cell line: 16>\u001b[0;34m()\u001b[0m\n\u001b[1;32m     14\u001b[0m \u001b[0;31m# رسم heatmap از ماتریس سردرگمی\u001b[0m\u001b[0;34m\u001b[0m\u001b[0;34m\u001b[0m\u001b[0m\n\u001b[1;32m     15\u001b[0m \u001b[0mplt\u001b[0m\u001b[0;34m.\u001b[0m\u001b[0mfigure\u001b[0m\u001b[0;34m(\u001b[0m\u001b[0mfigsize\u001b[0m\u001b[0;34m=\u001b[0m\u001b[0;34m(\u001b[0m\u001b[0;36m8\u001b[0m\u001b[0;34m,\u001b[0m \u001b[0;36m6\u001b[0m\u001b[0;34m)\u001b[0m\u001b[0;34m)\u001b[0m\u001b[0;34m\u001b[0m\u001b[0;34m\u001b[0m\u001b[0m\n\u001b[0;32m---> 16\u001b[0;31m \u001b[0msns\u001b[0m\u001b[0;34m.\u001b[0m\u001b[0mheatmap\u001b[0m\u001b[0;34m(\u001b[0m\u001b[0mconf_matrix\u001b[0m\u001b[0;34m,\u001b[0m \u001b[0mannot\u001b[0m\u001b[0;34m=\u001b[0m\u001b[0;32mTrue\u001b[0m\u001b[0;34m,\u001b[0m \u001b[0mfmt\u001b[0m\u001b[0;34m=\u001b[0m\u001b[0;34m\"d\"\u001b[0m\u001b[0;34m,\u001b[0m \u001b[0mcmap\u001b[0m\u001b[0;34m=\u001b[0m\u001b[0;34m\"YlGnBu\"\u001b[0m\u001b[0;34m,\u001b[0m \u001b[0mxticklabels\u001b[0m\u001b[0;34m=\u001b[0m\u001b[0mclass_labels\u001b[0m\u001b[0;34m,\u001b[0m \u001b[0myticklabels\u001b[0m\u001b[0;34m=\u001b[0m\u001b[0mclass_labels\u001b[0m\u001b[0;34m)\u001b[0m\u001b[0;34m\u001b[0m\u001b[0;34m\u001b[0m\u001b[0m\n\u001b[0m\u001b[1;32m     17\u001b[0m \u001b[0mplt\u001b[0m\u001b[0;34m.\u001b[0m\u001b[0mxlabel\u001b[0m\u001b[0;34m(\u001b[0m\u001b[0;34m\"Predicted Label\"\u001b[0m\u001b[0;34m)\u001b[0m\u001b[0;34m\u001b[0m\u001b[0;34m\u001b[0m\u001b[0m\n\u001b[1;32m     18\u001b[0m \u001b[0mplt\u001b[0m\u001b[0;34m.\u001b[0m\u001b[0mylabel\u001b[0m\u001b[0;34m(\u001b[0m\u001b[0;34m\"True Label\"\u001b[0m\u001b[0;34m)\u001b[0m\u001b[0;34m\u001b[0m\u001b[0;34m\u001b[0m\u001b[0m\n",
            "\u001b[0;31mNameError\u001b[0m: name 'class_labels' is not defined"
          ]
        },
        {
          "output_type": "display_data",
          "data": {
            "text/plain": [
              "<Figure size 800x600 with 0 Axes>"
            ]
          },
          "metadata": {}
        }
      ],
      "source": [
        "from sklearn.metrics import confusion_matrix\n",
        "import matplotlib.pyplot as plt\n",
        "import seaborn as sns\n",
        "import numpy as np\n",
        "\n",
        "y_pred = model.predict([X_test_review_pad, X_test_summary_pad])\n",
        "y_pred_classes = np.argmax(y_pred, axis=1)\n",
        "y_test_classes = np.argmax(y_test, axis=1)\n",
        "\n",
        "conf_matrix = confusion_matrix(y_test_classes, y_pred_classes)\n",
        "\n"
      ]
    },
    {
      "cell_type": "code",
      "source": [
        "conf_matrix_percent = conf_matrix.astype('float') / conf_matrix.sum(axis=1)[:, np.newaxis] * 100\n",
        "\n",
        "plt.figure(figsize=(8, 6))\n",
        "sns.heatmap(conf_matrix_percent, annot=True, fmt=\".2f\", cmap=\"Blues\", xticklabels=train_dt['overall'].unique(), yticklabels=train_dt['overall'].unique())\n",
        "plt.xlabel(\"Predicted Label\")\n",
        "plt.ylabel(\"True Label\")\n",
        "plt.title(\"Confusion Matrix Heatmap (Percentage)\")\n",
        "plt.show()\n"
      ],
      "metadata": {
        "colab": {
          "base_uri": "https://localhost:8080/",
          "height": 564
        },
        "id": "AVeR4-XCzbIe",
        "outputId": "157d5a05-9c3d-4fe0-ef76-2a4e723abf82"
      },
      "execution_count": 64,
      "outputs": [
        {
          "output_type": "display_data",
          "data": {
            "text/plain": [
              "<Figure size 800x600 with 2 Axes>"
            ],
            "image/png": "[encoded data removed]"
          },
          "metadata": {}
        }
      ]
    },
    {
      "cell_type": "markdown",
      "source": [
        " آموزش و تبدیل و پدینگ متون به توالی عددی در داده‌های تست\n"
      ],
      "metadata": {
        "id": "Oud4109e21kS"
      }
    },
    {
      "cell_type": "code",
      "execution_count": 32,
      "metadata": {
        "id": "Nyhaat2dZ7k7"
      },
      "outputs": [],
      "source": [
        "X_test_f_review_seq = tokenizer_review.texts_to_sequences(test_dt['reviewText_cleaned'])\n",
        "X_test_f_summary_seq = tokenizer_summary.texts_to_sequences(test_dt['summary_cleaned'])"
      ]
    },
    {
      "cell_type": "code",
      "source": [
        "X_test_f_review_pad = pad_sequences(X_test_f_review_seq, maxlen=1400)\n",
        "X_test_f_summary_pad = pad_sequences(X_test_f_summary_seq, maxlen=500)"
      ],
      "metadata": {
        "collapsed": true,
        "id": "DJ8O-4eIudRS"
      },
      "execution_count": 34,
      "outputs": []
    },
    {
      "cell_type": "markdown",
      "source": [
        "پیشبینی در داده های تست"
      ],
      "metadata": {
        "id": "Qf4emhUx24Tg"
      }
    },
    {
      "cell_type": "code",
      "source": [
        "prediction = model.predict([X_test_f_review_pad, X_test_f_summary_pad])\n",
        "\n",
        "predicted_class = np.argmax(prediction, axis=1)\n",
        "\n",
        "print(\"Predicted class:\", predicted_class)"
      ],
      "metadata": {
        "colab": {
          "base_uri": "https://localhost:8080/"
        },
        "id": "BriijLhCuftu",
        "outputId": "64105d0c-43ec-4b88-af17-76967ddb9d8a"
      },
      "execution_count": 36,
      "outputs": [
        {
          "output_type": "stream",
          "name": "stdout",
          "text": [
            "\u001b[1m625/625\u001b[0m \u001b[32m━━━━━━━━━━━━━━━━━━━━\u001b[0m\u001b[37m\u001b[0m \u001b[1m16s\u001b[0m 26ms/step\n",
            "Predicted class: [0 0 0 ... 4 4 3]\n"
          ]
        }
      ]
    },
    {
      "cell_type": "code",
      "source": [
        "predicted_class_dt = pd.DataFrame(predicted_class, columns=['predicted'])"
      ],
      "metadata": {
        "id": "M6_SVBImvlT9"
      },
      "execution_count": 38,
      "outputs": []
    },
    {
      "cell_type": "code",
      "source": [
        "predicted_class_dt = predicted_class_dt['predicted'] + 1"
      ],
      "metadata": {
        "id": "mUs2Ey7LwCmt"
      },
      "execution_count": 49,
      "outputs": []
    },
    {
      "cell_type": "markdown",
      "source": [
        "ذخیره دیتا پیشبینی"
      ],
      "metadata": {
        "id": "OiiOKWkc2-TH"
      }
    },
    {
      "cell_type": "code",
      "source": [
        "predicted_class_dt.to_csv('/content/drive/My Drive/q2_submission.csv', index=False)\n"
      ],
      "metadata": {
        "id": "3yN1TkkowBio"
      },
      "execution_count": 51,
      "outputs": []
    }
  ],
  "metadata": {
    "colab": {
      "provenance": [],
      "gpuType": "T4"
    },
    "kernelspec": {
      "display_name": "Python 3",
      "name": "python3"
    },
    "language_info": {
      "name": "python"
    },
    "accelerator": "GPU"
  },
  "nbformat": 4,
  "nbformat_minor": 0
}